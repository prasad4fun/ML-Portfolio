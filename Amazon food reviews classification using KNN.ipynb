{
 "cells": [
  {
   "cell_type": "code",
   "execution_count": 9,
   "metadata": {},
   "outputs": [],
   "source": [
    "%matplotlib inline\n",
    "\n",
    "import sqlite3\n",
    "import pandas as pd #for data frames\n",
    "import numpy as np #numpy array operations\n",
    "import nltk #natural lang processing, for processing text\n",
    "import string\n",
    "import matplotlib.pyplot as plt\n",
    "import seaborn as sns #for plotting\n",
    "from sklearn.feature_extraction.text import TfidfTransformer\n",
    "from sklearn.feature_extraction.text import TfidfVectorizer\n",
    "from sklearn.feature_extraction.text import CountVectorizer\n",
    "from sklearn.metrics import roc_curve, auc\n",
    "from nltk.stem.porter import PorterStemmer\n",
    "import pickle\n",
    "import seaborn as sn\n",
    "\n",
    "import matplotlib.pyplot as plt\n",
    "from sklearn.model_selection import train_test_split\n",
    "from sklearn.neighbors import KNeighborsClassifier\n",
    "from sklearn.metrics import accuracy_score\n",
    "from sklearn.model_selection import cross_val_score\n",
    "from collections import Counter\n",
    "from sklearn.metrics import accuracy_score\n",
    "from sklearn.model_selection import cross_validate"
   ]
  },
  {
   "cell_type": "code",
   "execution_count": 14,
   "metadata": {},
   "outputs": [],
   "source": [
    "with open(\"all_emb.dat\", \"rb\") as f:\n",
    "    cleaned_data = pickle.load(f)\n",
    "final_tf_idf, bow_standardized_data, sent_vectors, tfidf_sent_vectors, final_scores = cleaned_data"
   ]
  },
  {
   "cell_type": "code",
   "execution_count": 13,
   "metadata": {},
   "outputs": [],
   "source": [
    "from sklearn.model_selection import TimeSeriesSplit\n",
    "\n",
    "def k_fold_cross_validation(x_1,y_1):\n",
    "    li = list(range(0,16))\n",
    "    \n",
    "    #creating odd list of vals for 'k'\n",
    "    neighbors = list(filter(lambda x: x%2 != 0,li))\n",
    "\n",
    "    #empty list to hold CV scores/accuracy\n",
    "    cv_scores = []\n",
    "\n",
    "    \n",
    "    #performing k-fold cross validation with Times Based Split\n",
    "    for k in neighbors:\n",
    "        knn = KNeighborsClassifier(n_neighbors=k,algorithm='auto',n_jobs=-1)\n",
    "        tscv = TimeSeriesSplit(n_splits=5)\n",
    "        acc_sum=0\n",
    "        cnt=0\n",
    "        for train_index, test_index in tscv.split(x_1):\n",
    "            X_train, X_test = x_1[train_index], x_1[test_index]\n",
    "            Y_train, Y_test = y_1[train_index], y_1[test_index]\n",
    "            knn.fit(X_train,Y_train)\n",
    "            pred = knn.predict(X_test)\n",
    "            acc = accuracy_score(Y_test, pred, normalize=True )*float(100)\n",
    "            acc_sum=acc_sum+acc\n",
    "            cnt=cnt+1\n",
    "        cv_scores.append(acc_sum/cnt)\n",
    "            \n",
    "            \n",
    "   \n",
    "    # determining best k\n",
    "    optimal_k = neighbors[cv_scores.index(max(cv_scores))]\n",
    "    print('\\nThe optimal number of neighbors is %d.' % optimal_k)\n",
    "\n",
    "    # plot misclassification error vs k \n",
    "    plt.plot(neighbors, cv_scores)\n",
    "\n",
    "    for xy in zip(neighbors, np.round(cv_scores,3)):\n",
    "        plt.annotate('(%s, %s)' % xy, xy=xy, textcoords='data')\n",
    "\n",
    "    plt.xlabel('Number of Neighbors K')\n",
    "    plt.ylabel('Accuracy Percentage')\n",
    "    plt.show()\n",
    "\n",
    "    print(\"the Accuracy for each k value is : \", np.round(cv_scores,3))\n",
    "    print('*********************************************************************')\n",
    "    print(\"optimal k value is: \",optimal_k)\n",
    "    return optimal_k;"
   ]
  },
  {
   "cell_type": "markdown",
   "metadata": {},
   "source": [
    "# Amazon reviews KNN classifier with TFIDF embeddings"
   ]
  },
  {
   "cell_type": "code",
   "execution_count": 16,
   "metadata": {},
   "outputs": [],
   "source": [
    "x, y = final_tf_idf, final_scores\n",
    "x_1, x_test, y_1, y_test = train_test_split(x,y, test_size=0.3, random_state=0)"
   ]
  },
  {
   "cell_type": "code",
   "execution_count": 33,
   "metadata": {},
   "outputs": [],
   "source": [
    "y_1 = np.array(y_1)\n",
    "y_test = np.array(y_test)"
   ]
  },
  {
   "cell_type": "code",
   "execution_count": 20,
   "metadata": {},
   "outputs": [
    {
     "name": "stdout",
     "output_type": "stream",
     "text": [
      "\n",
      "The optimal number of neighbors is 13.\n"
     ]
    },
    {
     "data": {
      "image/png": "[encoded data removed]",
      "text/plain": [
       "<Figure size 432x288 with 1 Axes>"
      ]
     },
     "metadata": {
      "needs_background": "light"
     },
     "output_type": "display_data"
    },
    {
     "name": "stdout",
     "output_type": "stream",
     "text": [
      "the Accuracy for each k value is :  [77.831 82.616 83.959 84.269 84.337 84.337 84.475 84.441]\n",
      "*********************************************************************\n",
      "optimal k value is:  13\n"
     ]
    }
   ],
   "source": [
    "optim_k_val = k_fold_cross_validation(x_1,y_1)"
   ]
  },
  {
   "cell_type": "code",
   "execution_count": 23,
   "metadata": {},
   "outputs": [
    {
     "name": "stdout",
     "output_type": "stream",
     "text": [
      "\n",
      "The accuracy of the knn classifier for k = 13 is 86.965241%\n"
     ]
    }
   ],
   "source": [
    "knn_optimal = KNeighborsClassifier(n_neighbors=optim_k_val)\n",
    "knn_optimal.fit(x_1, y_1)\n",
    "pred = knn_optimal.predict(x_test)\n",
    "\n",
    "acc = accuracy_score(y_test, pred) * 100\n",
    "print('\\nThe accuracy of the knn classifier for k = %d is %f%%' % (optim_k_val, acc))"
   ]
  },
  {
   "cell_type": "markdown",
   "metadata": {},
   "source": [
    "# Amazon reviews KNN classifier with BOW embeddings"
   ]
  },
  {
   "cell_type": "code",
   "execution_count": 25,
   "metadata": {},
   "outputs": [],
   "source": [
    "x, y = bow_standardized_data, final_scores\n",
    "x_1, x_test, y_1, y_test = train_test_split(x,y, test_size=0.3, random_state=0)"
   ]
  },
  {
   "cell_type": "code",
   "execution_count": 32,
   "metadata": {},
   "outputs": [],
   "source": [
    "y_1 = np.array(y_1)\n",
    "y_test = np.array(y_test)"
   ]
  },
  {
   "cell_type": "code",
   "execution_count": 34,
   "metadata": {},
   "outputs": [
    {
     "name": "stdout",
     "output_type": "stream",
     "text": [
      "\n",
      "The optimal number of neighbors is 3.\n"
     ]
    },
    {
     "data": {
      "image/png": "[encoded data removed]",
      "text/plain": [
       "<Figure size 432x288 with 1 Axes>"
      ]
     },
     "metadata": {
      "needs_background": "light"
     },
     "output_type": "display_data"
    },
    {
     "name": "stdout",
     "output_type": "stream",
     "text": [
      "the Accuracy for each k value is :  [81.652 82.995 82.995 82.96  82.995 82.995 82.995 82.995]\n",
      "*********************************************************************\n",
      "optimal k value is:  3\n"
     ]
    }
   ],
   "source": [
    "optim_k_val = k_fold_cross_validation(x_1,y_1)"
   ]
  },
  {
   "cell_type": "code",
   "execution_count": 35,
   "metadata": {},
   "outputs": [
    {
     "name": "stdout",
     "output_type": "stream",
     "text": [
      "\n",
      "The accuracy of the knn classifier for k = 3 is 85.360963%\n"
     ]
    }
   ],
   "source": [
    "knn_optimal = KNeighborsClassifier(n_neighbors=optim_k_val)\n",
    "knn_optimal.fit(x_1, y_1)\n",
    "pred = knn_optimal.predict(x_test)\n",
    "\n",
    "acc = accuracy_score(y_test, pred) * 100\n",
    "print('\\nThe accuracy of the knn classifier for k = %d is %f%%' % (optim_k_val, acc))"
   ]
  },
  {
   "cell_type": "code",
   "execution_count": null,
   "metadata": {},
   "outputs": [],
   "source": []
  }
 ],
 "metadata": {
  "kernelspec": {
   "display_name": "Python 3",
   "language": "python",
   "name": "python3"
  },
  "language_info": {
   "codemirror_mode": {
    "name": "ipython",
    "version": 3
   },
   "file_extension": ".py",
   "mimetype": "text/x-python",
   "name": "python",
   "nbconvert_exporter": "python",
   "pygments_lexer": "ipython3",
   "version": "3.6.4"
  }
 },
 "nbformat": 4,
 "nbformat_minor": 2
}
